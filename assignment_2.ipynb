{
 "cells": [
  {
   "cell_type": "code",
   "execution_count": 1,
   "metadata": {},
   "outputs": [
    {
     "name": "stdout",
     "output_type": "stream",
     "text": [
      "enter marks out of 100 55\n",
      "enter marks out of 100 11\n",
      "enter marks out of 100 22\n",
      "enter marks out of 100 22\n",
      "enter marks out of 100 33\n",
      "totalmarks = 143\n",
      "percentage = 28.599999999999998\n",
      "fail\n"
     ]
    }
   ],
   "source": [
    "# Q1\n",
    "marks=[]\n",
    "totalmarks=0;\n",
    "for i in range (5):\n",
    "    x=int(input(\"Enter marks out of 100 \"))\n",
    "  \n",
    "    marks.append(x)\n",
    "    totalmarks+=x\n",
    "\n",
    "print(\"totalmarks =\",totalmarks)  \n",
    "percentage=(totalmarks/500)*100\n",
    "print(\"percentage =\",percentage)\n",
    "if percentage>=90:\n",
    "    print(\"grade A+\")\n",
    "elif percentage>=80:\n",
    "    print(\"grade A\")\n",
    "elif percentage>=70:\n",
    "    print(\"grade B\")    \n",
    "elif percentage>=60:\n",
    "    print(\"grade C\")\n",
    "elif percentage>=50:\n",
    "    print(\"grade D\")\n",
    "else:\n",
    "    print(\"fail\")"
   ]
  },
  {
   "cell_type": "code",
   "execution_count": 3,
   "metadata": {},
   "outputs": [
    {
     "name": "stdout",
     "output_type": "stream",
     "text": [
      "enter number :12\n",
      "even no\n"
     ]
    }
   ],
   "source": [
    "# Q2\n",
    "x=int(input(\"enter number :\"))\n",
    "if x%2==0:\n",
    "    print(\"even no\")\n",
    "else:\n",
    "    print(\"odd no\")"
   ]
  },
  {
   "cell_type": "code",
   "execution_count": 9,
   "metadata": {},
   "outputs": [
    {
     "name": "stdout",
     "output_type": "stream",
     "text": [
      "5\n"
     ]
    }
   ],
   "source": [
    "# Q3\n",
    "list=[11,44,55,10,23]\n",
    "print(len(list))\n"
   ]
  },
  {
   "cell_type": "code",
   "execution_count": 5,
   "metadata": {},
   "outputs": [
    {
     "name": "stdout",
     "output_type": "stream",
     "text": [
      "sum of list= 231\n"
     ]
    }
   ],
   "source": [
    "# Q4\n",
    "list=[66,34,33,47,51]\n",
    "x=len(list)\n",
    "total=0\n",
    "for i in range (x):\n",
    "    total+=list[i]\n",
    "print(\"sum of list=\",total)"
   ]
  },
  {
   "cell_type": "code",
   "execution_count": 7,
   "metadata": {},
   "outputs": [
    {
     "name": "stdout",
     "output_type": "stream",
     "text": [
      "100\n"
     ]
    }
   ],
   "source": [
    "# Q5\n",
    "list=[99,20,66,55,100]\n",
    "print(max(list))\n"
   ]
  },
  {
   "cell_type": "code",
   "execution_count": 8,
   "metadata": {},
   "outputs": [
    {
     "name": "stdout",
     "output_type": "stream",
     "text": [
      "1\n",
      "1\n",
      "2\n",
      "3\n"
     ]
    }
   ],
   "source": [
    "# Q6\n",
    "list=[1,1,2,3,5,8,13,21,34,55,89]\n",
    "x=len(list)\n",
    "for i in range(x):\n",
    "    if list[i]<5:\n",
    "        print(list[i])"
   ]
  },
  {
   "cell_type": "code",
   "execution_count": null,
   "metadata": {},
   "outputs": [],
   "source": []
  }
 ],
 "metadata": {
  "kernelspec": {
   "display_name": "Python 3",
   "language": "python",
   "name": "python3"
  },
  "language_info": {
   "codemirror_mode": {
    "name": "ipython",
    "version": 3
   },
   "file_extension": ".py",
   "mimetype": "text/x-python",
   "name": "python",
   "nbconvert_exporter": "python",
   "pygments_lexer": "ipython3",
   "version": "3.7.4"
  }
 },
 "nbformat": 4,
 "nbformat_minor": 2
}
