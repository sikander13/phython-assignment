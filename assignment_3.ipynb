{
 "cells": [
  {
   "cell_type": "code",
   "execution_count": 2,
   "metadata": {},
   "outputs": [
    {
     "name": "stdout",
     "output_type": "stream",
     "text": [
      "Enter First Value : 5\n",
      "Enter Second Value : 5\n",
      "Enter Operator! : *\n",
      "25\n"
     ]
    }
   ],
   "source": [
    "#Q1\n",
    "val1 = int(input(\"Enter First Value : \"))\n",
    "val2 = int(input(\"Enter Second Value : \"))\n",
    "op = input(\"Enter Operator! : \")\n",
    "\n",
    "if op == \"+\":\n",
    "    print(val1 + val2)\n",
    "elif op == \"-\":\n",
    "    print(val1 - val2)\n",
    "elif op == \"*\":\n",
    "    print(val1 * val2)\n",
    "elif op == \"/\":\n",
    "    print(val1 / val2)\n",
    "elif op == \"**\":\n",
    "    print(val1**val2)\n",
    "else:\n",
    "    print(\"Enter Correct Operator !\")"
   ]
  },
  {
   "cell_type": "code",
   "execution_count": 3,
   "metadata": {},
   "outputs": [
    {
     "name": "stdout",
     "output_type": "stream",
     "text": [
      "Kundan\n"
     ]
    }
   ],
   "source": [
    "#Q3\n",
    "name = {}\n",
    "name[1] = \"Kundan\"\n",
    "print(name[1])"
   ]
  },
  {
   "cell_type": "code",
   "execution_count": 7,
   "metadata": {},
   "outputs": [
    {
     "name": "stdout",
     "output_type": "stream",
     "text": [
      "Numeric value found : 4\n"
     ]
    }
   ],
   "source": [
    "# Q2\n",
    "the_list = [\"Kundan\",  \"9\", 4, \"Salam\"]\n",
    "for value in the_list:\n",
    "    if type(value) == int or type(value) == float:\n",
    "        print(f\"Numeric value found : {value}\")\n",
    "        break"
   ]
  },
  {
   "cell_type": "code",
   "execution_count": 8,
   "metadata": {},
   "outputs": [
    {
     "name": "stdout",
     "output_type": "stream",
     "text": [
      "202\n"
     ]
    }
   ],
   "source": [
    "# Q4\n",
    "result = 0\n",
    "val = {1: 2, 2: \"Kundan\", 3: 2, 4: 100, 5: 98}\n",
    "\n",
    "for value in val.values():\n",
    "    if type(value) == int or type(value) == float:\n",
    "        result = result + value\n",
    "\n",
    "print(result)"
   ]
  },
  {
   "cell_type": "code",
   "execution_count": 9,
   "metadata": {},
   "outputs": [
    {
     "name": "stdout",
     "output_type": "stream",
     "text": [
      "Duplicate value are 1\n",
      "Duplicate value are Kundan\n",
      "Duplicate value are Kundan\n",
      "Duplicate value are 1\n",
      "Duplicate value are 1\n",
      "Duplicate value are 0.4\n",
      "Duplicate value are 0.4\n"
     ]
    }
   ],
   "source": [
    "# Q5\n",
    "the_list = [1, \"Kundan\", \"Kundan\", 1, 1, 0.4, 0.4, 2, 3, 4, 5, 6]\n",
    "for value in the_list:\n",
    "    if the_list.count(value) > 1:\n",
    "        print(\"Duplicate value are\", value)"
   ]
  },
  {
   "cell_type": "code",
   "execution_count": 10,
   "metadata": {},
   "outputs": [
    {
     "name": "stdout",
     "output_type": "stream",
     "text": [
      "NOT!\n",
      "Available\n",
      "NOT!\n"
     ]
    }
   ],
   "source": [
    "# Q6\n",
    "the_dic = {\"a\": \"Apple\", \"b\": \"Ball\", \"c\": \"Cat\"}\n",
    "given_key = \"b\"\n",
    "for key_val in the_dic.keys():\n",
    "    if key_val == given_key:\n",
    "        print(\"Available\")\n",
    "\n",
    "    else:\n",
    "        print(\"NOT!\")"
   ]
  },
  {
   "cell_type": "code",
   "execution_count": null,
   "metadata": {},
   "outputs": [],
   "source": []
  }
 ],
 "metadata": {
  "kernelspec": {
   "display_name": "Python 3",
   "language": "python",
   "name": "python3"
  },
  "language_info": {
   "codemirror_mode": {
    "name": "ipython",
    "version": 3
   },
   "file_extension": ".py",
   "mimetype": "text/x-python",
   "name": "python",
   "nbconvert_exporter": "python",
   "pygments_lexer": "ipython3",
   "version": "3.7.4"
  }
 },
 "nbformat": 4,
 "nbformat_minor": 2
}
