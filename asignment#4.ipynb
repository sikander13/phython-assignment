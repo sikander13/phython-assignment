{
 "cells": [
  {
   "cell_type": "code",
   "execution_count": 1,
   "metadata": {},
   "outputs": [
    {
     "name": "stdout",
     "output_type": "stream",
     "text": [
      "first_name:Sikander\n",
      "last_name:Ghulam Nabi\n",
      "age:31\n",
      "city:Karachi\n",
      "\n",
      " ––Adding Qualification–– \n",
      "\n",
      "first_name:Sikander\n",
      "last_name:Ghulam Nabi\n",
      "age:31\n",
      "city:Karachi\n",
      "Qualification:Graduation\n",
      "\n",
      " ––Updating Qualification–– \n",
      "\n",
      "first_name:Sikander\n",
      "last_name:Ghulam Nabi\n",
      "age:31\n",
      "city:Karachi\n",
      "Qualification:Masters\n",
      "\n",
      " ––Delete Qualification–– \n",
      "\n",
      "first_name:Sikander\n",
      "last_name:Ghulam Nabi\n",
      "age:31\n",
      "city:Karachi\n"
     ]
    }
   ],
   "source": [
    "'''Q#1: Use a dictionary to store information about a person you know. Store their first name, last name, age, and the city in which they live. You should have keys such as first_name, last_name, age, and city. Print each piece of information stored in your dictionary. Add a new key value pair about qualification then update the qualification value to high academic level then delete it.\n",
    "ans : '''\n",
    "person = {\n",
    "    \"first_name\": \"Sikander\",\n",
    "    \"last_name\": \"Ghulam Nabi\",\n",
    "    \"age\": \"31\",\n",
    "    \"city\": \"Karachi\"\n",
    "}    \n",
    "for each_key,each_value in person.items():\n",
    "    print(each_key + \":\" + each_value )\n",
    "    \n",
    "    '''Now Adding Qualification'''\n",
    "print(\"\\n ––Adding Qualification–– \\n\" )    \n",
    "person[\"Qualification\"] = 'Graduation'\n",
    "for each_key,each_value in person.items():\n",
    "    print(each_key + \":\" + each_value )\n",
    "\n",
    "    '''Now Update Qualification'''\n",
    "print(\"\\n ––Updating Qualification–– \\n\" )  \n",
    "person[\"Qualification\"] = 'Masters'\n",
    "for each_key,each_value in person.items():\n",
    "    print(each_key + \":\" + each_value )    \n",
    "    \n",
    "    '''Now Deleting Qualification'''\n",
    "print(\"\\n ––Delete Qualification–– \\n\" )      \n",
    "del person[\"Qualification\"]        \n",
    "for each_key,each_value in person.items():\n",
    "    print(each_key + \":\" + each_value )    "
   ]
  },
  {
   "cell_type": "code",
   "execution_count": 2,
   "metadata": {},
   "outputs": [
    {
     "name": "stdout",
     "output_type": "stream",
     "text": [
      "\n",
      "Karachi\n",
      "\n",
      "country : pakistan\n",
      "population : 20000000\n",
      "fact : Karachi is the bigest city of pakistan, It is also called as mini pakistan\n",
      "\n",
      "Faislabad\n",
      "\n",
      "country : pakistan\n",
      "population : 15000\n",
      "fact : Faislabad is also known as Pakistan's Manchester, Faislabad is lagest productivity of garment sector\n",
      "\n",
      "Islamabad\n",
      "\n",
      "country : pakistan\n",
      "population : 106900\n",
      "fact : Islamabad is the capital of our Beloved Country PAKISTAN\n"
     ]
    }
   ],
   "source": [
    "'''Question2:\n",
    "Make a dictionary called cities. Use the names of three cities as keys in your dictionary. Create a dictionary of information about each city and include the country that the city is in, its approximate population, and one fact about that city. The keys for each city’s dictionary should be something like country, population, and fact. Print the name of each city and all of the information you have stored about it.\n",
    "Ans : '''\n",
    "\n",
    "cities={\n",
    "    \"Karachi\":{\n",
    "        \"country\":\"pakistan\",\n",
    "        \"population\":20000000,\n",
    "        \"fact\":\"Karachi is the bigest city of pakistan, It is also called as mini pakistan\"\n",
    "    },\n",
    "    \"Faislabad\":{\n",
    "        \"country\":\"pakistan\",\n",
    "        \"population\":15000,\n",
    "        \"fact\":\"Faislabad is also known as Pakistan's Manchester, Faislabad is lagest productivity of garment sector\"\n",
    "    },\n",
    "    \"Islamabad\":{\n",
    "        \"country\":\"pakistan\",\n",
    "        \"population\":106900,\n",
    "        \"fact\":\"Islamabad is the capital of our Beloved Country PAKISTAN\"\n",
    "    }\n",
    "}\n",
    "for key,info in cities.items():\n",
    "    print(\"\\n\"+key+\"\\n\")\n",
    "    for city in info:\n",
    "        print(city+\" : \"+str(info[city]))"
   ]
  },
  {
   "cell_type": "code",
   "execution_count": 3,
   "metadata": {},
   "outputs": [
    {
     "name": "stdout",
     "output_type": "stream",
     "text": [
      "Do You Want To Buy Ticket yes/no: yes\n",
      "Please tell me what is your age: 6\n",
      "Your Ticket Price is 10$\n",
      "Do You Want To Buy Ticket yes/no: yes\n",
      "Please tell me what is your age: 2\n",
      "Your Ticket is free\n",
      "Do You Want To Buy Ticket yes/no: yes\n",
      "Please tell me what is your age: 14\n",
      "Your Ticket Price is 15$\n",
      "Do You Want To Buy Ticket yes/no: no\n"
     ]
    }
   ],
   "source": [
    "'''Question # 3rd Ans : '''\n",
    "ticket='no'\n",
    "while ticket!='yes':\n",
    "    ticket=input(\"Do You Want To Buy Ticket yes/no: \")\n",
    "\n",
    "ticket='yes'\n",
    "while ticket!='no':    \n",
    "    age=int(input(\"Please tell me what is your age: \"))\n",
    "    if age>12:\n",
    "        print(\"Your Ticket Price is 15$\")\n",
    "    elif age>=3:\n",
    "        print(\"Your Ticket Price is 10$\")\n",
    "    else:\n",
    "        print(\"Your Ticket is free\")\n",
    "    ticket=input(\"Do You Want To Buy Ticket yes/no: \")"
   ]
  },
  {
   "cell_type": "code",
   "execution_count": 5,
   "metadata": {},
   "outputs": [
    {
     "name": "stdout",
     "output_type": "stream",
     "text": [
      "One of my favorite books is Alice in Wonderland.\n"
     ]
    }
   ],
   "source": [
    "'''Question # 4th Ans: \n",
    "\n",
    "'''\n",
    "\n",
    "def favorite_book(title):\n",
    "    print(title)\n",
    "book_title=\"One of my favorite books is Alice in Wonderland.\"\n",
    "if(len(book_title)!=0):\n",
    "    favorite_book(book_title)\n",
    "else:\n",
    "    print(\"Please populate the book title\")"
   ]
  },
  {
   "cell_type": "code",
   "execution_count": 7,
   "metadata": {},
   "outputs": [
    {
     "name": "stdout",
     "output_type": "stream",
     "text": [
      "Enter number between 1 and 30: 4\n",
      "Hidden number is greater\n",
      "\n",
      "Enter number between 1 and 30: 1\n",
      "Hidden number is greater\n",
      "\n",
      "Enter number between 1 and 30: 5\n",
      "Hidden number is greater\n",
      "\n"
     ]
    }
   ],
   "source": [
    "'''Question # 5th Ans:\n",
    "'''\n",
    "import random\n",
    "c=0\n",
    "rNumber=0\n",
    "while c<3:\n",
    "    rNumber=int(random.randrange(1,30))\n",
    "    userNumber=int(input(\"Enter number between 1 and 30: \"))\n",
    "    c=c+1\n",
    "    if rNumber>userNumber:\n",
    "        print(\"Hidden number is greater\\n\")\n",
    "    elif rNumber<userNumber:\n",
    "        print(\"Hidden number is Smaller\\n\")\n",
    "    else:\n",
    "        print(\"Hidden number is equal\\n\")"
   ]
  },
  {
   "cell_type": "code",
   "execution_count": null,
   "metadata": {},
   "outputs": [],
   "source": [
    "\n"
   ]
  },
  {
   "cell_type": "code",
   "execution_count": null,
   "metadata": {},
   "outputs": [],
   "source": []
  }
 ],
 "metadata": {
  "kernelspec": {
   "display_name": "Python 3",
   "language": "python",
   "name": "python3"
  },
  "language_info": {
   "codemirror_mode": {
    "name": "ipython",
    "version": 3
   },
   "file_extension": ".py",
   "mimetype": "text/x-python",
   "name": "python",
   "nbconvert_exporter": "python",
   "pygments_lexer": "ipython3",
   "version": "3.7.4"
  }
 },
 "nbformat": 4,
 "nbformat_minor": 2
}
