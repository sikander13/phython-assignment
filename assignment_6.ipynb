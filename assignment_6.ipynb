{
 "cells": [
  {
   "cell_type": "markdown",
   "metadata": {},
   "source": [
    "### Q1 Define Object Oriented Programming Language?\n",
    "\n",
    "#### Object-oriented programming, also known as OOP or OO programming, is a programming language paradigm. In an object-oriented program, the code can be structured as reusable components, some of which may share properties or behaviors.  Object-oriented programming can improve the developer's ability to quickly prototype software, extend existing functionality, refactor the code, and maintain it as it's developed.\n",
    "\n"
   ]
  },
  {
   "cell_type": "markdown",
   "metadata": {},
   "source": [
    "### Q2 List down the Benefits of OOP?\n",
    "\n",
    "####  (*)  It provides a clear modular structure for programs which makes it good for defining abstract datatypes in which implementation details are hidden\n",
    "\n",
    "#### (*) Objects can also be reused within an across applications. The reuse of software also lowers the cost of development. More effort is put into the object-oriented analysis and design, which lowers the overall cost of development.\n",
    "\n",
    "#### (*) It makes software easier to maintain. Since the design is modular, part of the system can be updated in case of issues without a need to make large-scale changes\n",
    "\n",
    "#### (*) Reuse also enables faster development. Object-oriented programming languages come with rich libraries of objects, and code developed during projects is also reusable in future projects.\n",
    "\n",
    "#### (*) It provides a good framework for code libraries where the supplied software components can be easily adapted and modified by the programmer. This is particularly useful for developing graphical user interfaces.\n",
    "\n",
    "#### (*) Better Productivity as OOP techniques enforce rules on a programmer that, in the long run, help her get more work done; finished programs work better, have more features and are easier to read and maintain. OOP programmers take new and existing software objects and \"stitch\" them together to make new programs. Because object libraries contain many useful functions, software developers don't have to reinvent the wheel as often; more of their time goes into making the new program."
   ]
  },
  {
   "cell_type": "markdown",
   "metadata": {},
   "source": [
    "### Q3 Differentiate between function and method?\n",
    "\n",
    "#### Function : A function is a piece of code that is called by name. It can be passed data to operate on (i.e. the parameters) and can optionally return data (the return value). All data that is passed to a function is explicitly passed.\n",
    "\n",
    "#### Method : A method is a piece of code that is called by a name that is associated with an object. In most respects it is identical to a function except for two key differences:A method is implicitly passed the object on which it was called.\n",
    "\n",
    "#### (*)A method is implicitly passed the object on which it was called.\n",
    "#### (*)A method is able to operate on data that is contained within the class (remembering that an object is an instance of a class - the class is the definition, the object is an instance of that data).\n"
   ]
  },
  {
   "cell_type": "markdown",
   "metadata": {},
   "source": [
    "### Q4 Define the following terms ?\n",
    "\n",
    "#### (*) Class:  A class is an entity that determines how an object will behave and what the object will contain. In other words, it is a blueprint or a set of instruction to build a specific type of object.\n",
    "\n",
    "#### (*)Object: An object is nothing but a self-contained component which consists of methods and properties to make a particular type of data useful. Object determines the behavior of the class. When you send a message to an object, you are asking the object to invoke or execute one of its methods. From a programming point of view, an object can be a data structure, a variable or a function. It has a memory location allocated. The object is designed as class hierarchies\n",
    "\n",
    "#### (*)Attribute: In Object-oriented programming(OOP), classes and objects have attributes. Attributes are data stored inside a class or instance and represent the state or quality of the class or instance. In short, attributes store information about the instance. Also, attributes should not be confused with class functions also known as methods. One can think of attributes as noun or adjective, while methods are the verb of the class.\n",
    "\n",
    "#### (*)Behavior: Behavior. A class's behavior determines how an instance of that class operates; for example, how it will \"react\" if asked to do something by another class or object or if its internal state changes. Behavior is the only way objects can do anything to themselves or have anything done to them.\n"
   ]
  },
  {
   "cell_type": "code",
   "execution_count": 2,
   "metadata": {},
   "outputs": [
    {
     "name": "stdout",
     "output_type": "stream",
     "text": [
      "midcar\n",
      "2012\n",
      "white\n",
      "manual\n",
      "Toyota Default\n",
      "suzuki Updated\n",
      "\n",
      "\n",
      "midcar default\n",
      "SEDAN Update\n",
      "2012\n",
      "white\n",
      "manual\n",
      "suzuki\n",
      "\n",
      "\n",
      "SEDAN\n",
      "2012\n",
      "white default\n",
      "RED Update\n",
      "manual\n",
      "suzuki\n"
     ]
    }
   ],
   "source": [
    "class Car():\n",
    "    def __init__(self,name,model,color,transmission):\n",
    "        self.name  = name\n",
    "        self.model = model\n",
    "        self.color = color\n",
    "        self.transmission = transmission\n",
    "        self.company = \"Toyota\"\n",
    "        \n",
    "    def update_company(self,new_company):\n",
    "        self.company = new_company\n",
    "    def update_name(self, new_name):\n",
    "        self.name = new_name\n",
    "    def update_color(self, new_color):\n",
    "        self.color = new_color   \n",
    "\n",
    "car_details = Car('midcar',2012,'white','manual')\n",
    "\n",
    "print(car_details.name)\n",
    "print(car_details.model)\n",
    "print(car_details.color)\n",
    "print(car_details.transmission)\n",
    "print(car_details.company,'Default')\n",
    "car_details.update_company('suzuki')\n",
    "print(car_details.company,\"Updated\")\n",
    "\n",
    "print(\"\\n\")\n",
    "\n",
    "print(car_details.name ,'default')\n",
    "car_details.update_name('SEDAN')\n",
    "print(car_details.name ,'Update')\n",
    "print(car_details.model)\n",
    "print(car_details.color)\n",
    "print(car_details.transmission)\n",
    "print(car_details.company)\n",
    "\n",
    "\n",
    "print(\"\\n\")\n",
    "\n",
    "print(car_details.name )\n",
    "print(car_details.model)\n",
    "print(car_details.color,'default')\n",
    "car_details.update_color('RED')\n",
    "print(car_details.color,'Update')\n",
    "print(car_details.transmission)\n",
    "print(car_details.company)\n",
    "\n"
   ]
  },
  {
   "cell_type": "code",
   "execution_count": null,
   "metadata": {},
   "outputs": [],
   "source": []
  }
 ],
 "metadata": {
  "kernelspec": {
   "display_name": "Python 3",
   "language": "python",
   "name": "python3"
  },
  "language_info": {
   "codemirror_mode": {
    "name": "ipython",
    "version": 3
   },
   "file_extension": ".py",
   "mimetype": "text/x-python",
   "name": "python",
   "nbconvert_exporter": "python",
   "pygments_lexer": "ipython3",
   "version": "3.7.4"
  }
 },
 "nbformat": 4,
 "nbformat_minor": 2
}
